{
  "cells": [
    {
      "cell_type": "markdown",
      "metadata": {
        "id": "view-in-github",
        "colab_type": "text"
      },
      "source": [
        "<a href=\"https://colab.research.google.com/github/HuitingSong/ANLY-580/blob/main/lab_09.ipynb\" target=\"_parent\"><img src=\"https://colab.research.google.com/assets/colab-badge.svg\" alt=\"Open In Colab\"/></a>"
      ]
    },
    {
      "cell_type": "markdown",
      "metadata": {
        "id": "U1HcdO1JsAKt"
      },
      "source": [
        "# Lab-09: DBpedia14 classification with BERT\n",
        "\n",
        "In Lab-03 we used linear text classification models (the perceptron, linear SVM, multinomial naive Bayes, softmax regression) on the DBpedia14 dataset. Recall that our best test accuracy was in the 92-93% range, and in lecture 08 we used a feed-forward NN with CBOW features to achieve ~97% test accuracy. Here we will use the BERT transformer model that was pretrained on vast amounts of text data to achieve >99% test accuracy with minimal hyperparameter tuning.\n",
        "\n",
        "### Class labels"
      ]
    },
    {
      "cell_type": "code",
      "execution_count": 7,
      "metadata": {
        "id": "SdqjCYufsAKv"
      },
      "outputs": [],
      "source": [
        "labels = {\n",
        "    0: \"Company\",\n",
        "    1: \"EducationalInstitution\",\n",
        "    2: \"Artist\",\n",
        "    3: \"Athlete\",\n",
        "    4: \"OfficeHolder\",\n",
        "    5: \"MeanOfTransportation\",\n",
        "    6: \"Building\",\n",
        "    7: \"NaturalPlace\",\n",
        "    8: \"Village\",\n",
        "    9: \"Animal\",\n",
        "    10: \"Plant\",\n",
        "    11: \"Album\",\n",
        "    12: \"Film\",\n",
        "    13: \"WrittenWork\"\n",
        "}\n",
        "\n",
        "K = len(labels)"
      ]
    },
    {
      "cell_type": "markdown",
      "metadata": {
        "id": "08q9j9qLsAKw"
      },
      "source": [
        "## Download the dataset"
      ]
    },
    {
      "cell_type": "code",
      "execution_count": 8,
      "metadata": {
        "id": "XZdDIl4_sAKx"
      },
      "outputs": [],
      "source": [
        "# Colab provides limited GPU time (be mindful when increasing this number)\n",
        "M = 30000"
      ]
    },
    {
      "cell_type": "code",
      "source": [
        "!pip install datasets"
      ],
      "metadata": {
        "colab": {
          "base_uri": "https://localhost:8080/"
        },
        "id": "sRrp7sQ0MbTd",
        "outputId": "2e41cb09-a57a-432c-a432-22a6d915a639"
      },
      "execution_count": 9,
      "outputs": [
        {
          "output_type": "stream",
          "name": "stdout",
          "text": [
            "Looking in indexes: https://pypi.org/simple, https://us-python.pkg.dev/colab-wheels/public/simple/\n",
            "Requirement already satisfied: datasets in /usr/local/lib/python3.7/dist-packages (2.6.1)\n",
            "Requirement already satisfied: dill<0.3.6 in /usr/local/lib/python3.7/dist-packages (from datasets) (0.3.5.1)\n",
            "Requirement already satisfied: fsspec[http]>=2021.11.1 in /usr/local/lib/python3.7/dist-packages (from datasets) (2022.10.0)\n",
            "Requirement already satisfied: pyyaml>=5.1 in /usr/local/lib/python3.7/dist-packages (from datasets) (6.0)\n",
            "Requirement already satisfied: requests>=2.19.0 in /usr/local/lib/python3.7/dist-packages (from datasets) (2.23.0)\n",
            "Requirement already satisfied: tqdm>=4.62.1 in /usr/local/lib/python3.7/dist-packages (from datasets) (4.64.1)\n",
            "Requirement already satisfied: xxhash in /usr/local/lib/python3.7/dist-packages (from datasets) (3.1.0)\n",
            "Requirement already satisfied: multiprocess in /usr/local/lib/python3.7/dist-packages (from datasets) (0.70.13)\n",
            "Requirement already satisfied: pandas in /usr/local/lib/python3.7/dist-packages (from datasets) (1.3.5)\n",
            "Requirement already satisfied: packaging in /usr/local/lib/python3.7/dist-packages (from datasets) (21.3)\n",
            "Requirement already satisfied: importlib-metadata in /usr/local/lib/python3.7/dist-packages (from datasets) (4.13.0)\n",
            "Requirement already satisfied: responses<0.19 in /usr/local/lib/python3.7/dist-packages (from datasets) (0.18.0)\n",
            "Requirement already satisfied: aiohttp in /usr/local/lib/python3.7/dist-packages (from datasets) (3.8.3)\n",
            "Requirement already satisfied: numpy>=1.17 in /usr/local/lib/python3.7/dist-packages (from datasets) (1.21.6)\n",
            "Requirement already satisfied: huggingface-hub<1.0.0,>=0.2.0 in /usr/local/lib/python3.7/dist-packages (from datasets) (0.10.1)\n",
            "Requirement already satisfied: pyarrow>=6.0.0 in /usr/local/lib/python3.7/dist-packages (from datasets) (6.0.1)\n",
            "Requirement already satisfied: multidict<7.0,>=4.5 in /usr/local/lib/python3.7/dist-packages (from aiohttp->datasets) (6.0.2)\n",
            "Requirement already satisfied: yarl<2.0,>=1.0 in /usr/local/lib/python3.7/dist-packages (from aiohttp->datasets) (1.8.1)\n",
            "Requirement already satisfied: frozenlist>=1.1.1 in /usr/local/lib/python3.7/dist-packages (from aiohttp->datasets) (1.3.1)\n",
            "Requirement already satisfied: attrs>=17.3.0 in /usr/local/lib/python3.7/dist-packages (from aiohttp->datasets) (22.1.0)\n",
            "Requirement already satisfied: async-timeout<5.0,>=4.0.0a3 in /usr/local/lib/python3.7/dist-packages (from aiohttp->datasets) (4.0.2)\n",
            "Requirement already satisfied: charset-normalizer<3.0,>=2.0 in /usr/local/lib/python3.7/dist-packages (from aiohttp->datasets) (2.1.1)\n",
            "Requirement already satisfied: typing-extensions>=3.7.4 in /usr/local/lib/python3.7/dist-packages (from aiohttp->datasets) (4.1.1)\n",
            "Requirement already satisfied: asynctest==0.13.0 in /usr/local/lib/python3.7/dist-packages (from aiohttp->datasets) (0.13.0)\n",
            "Requirement already satisfied: aiosignal>=1.1.2 in /usr/local/lib/python3.7/dist-packages (from aiohttp->datasets) (1.2.0)\n",
            "Requirement already satisfied: filelock in /usr/local/lib/python3.7/dist-packages (from huggingface-hub<1.0.0,>=0.2.0->datasets) (3.8.0)\n",
            "Requirement already satisfied: pyparsing!=3.0.5,>=2.0.2 in /usr/local/lib/python3.7/dist-packages (from packaging->datasets) (3.0.9)\n",
            "Requirement already satisfied: certifi>=2017.4.17 in /usr/local/lib/python3.7/dist-packages (from requests>=2.19.0->datasets) (2022.9.24)\n",
            "Requirement already satisfied: chardet<4,>=3.0.2 in /usr/local/lib/python3.7/dist-packages (from requests>=2.19.0->datasets) (3.0.4)\n",
            "Requirement already satisfied: urllib3!=1.25.0,!=1.25.1,<1.26,>=1.21.1 in /usr/local/lib/python3.7/dist-packages (from requests>=2.19.0->datasets) (1.25.11)\n",
            "Requirement already satisfied: idna<3,>=2.5 in /usr/local/lib/python3.7/dist-packages (from requests>=2.19.0->datasets) (2.10)\n",
            "Requirement already satisfied: zipp>=0.5 in /usr/local/lib/python3.7/dist-packages (from importlib-metadata->datasets) (3.10.0)\n",
            "Requirement already satisfied: pytz>=2017.3 in /usr/local/lib/python3.7/dist-packages (from pandas->datasets) (2022.5)\n",
            "Requirement already satisfied: python-dateutil>=2.7.3 in /usr/local/lib/python3.7/dist-packages (from pandas->datasets) (2.8.2)\n",
            "Requirement already satisfied: six>=1.5 in /usr/local/lib/python3.7/dist-packages (from python-dateutil>=2.7.3->pandas->datasets) (1.15.0)\n"
          ]
        }
      ]
    },
    {
      "cell_type": "code",
      "execution_count": 10,
      "metadata": {
        "colab": {
          "base_uri": "https://localhost:8080/",
          "height": 87,
          "referenced_widgets": [
            "e5e866888ef341f798c88001d0631497",
            "46510494d441477db318d07c904c54db",
            "3072c86a429d4049972bcc7ef8b15f22",
            "7ba88e7f68c34948b52d466e501067f0",
            "78b493150aad40e1ae718aea8adbb965",
            "15b6ee241f1941848533eeb9ef5871d3",
            "9ab279d614754f09a1d11c3e4ccd1c80",
            "51f82a7501024aceb8bd99e69509591a",
            "c6be36821a4b45e89649d65a300506bd",
            "bbe01f1ab6974c589be74047e2338f8f",
            "3726489ed09d42318aa82cf8c81410a6"
          ]
        },
        "id": "YNtj5tif0Jm5",
        "outputId": "410d6770-44d8-4e50-8bd2-cf387f0c4ff2"
      },
      "outputs": [
        {
          "output_type": "stream",
          "name": "stderr",
          "text": [
            "WARNING:datasets.builder:Found cached dataset dbpedia_14 (/root/.cache/huggingface/datasets/dbpedia_14/dbpedia_14/2.0.0/01dab9e10d969eadcdbc918be5a09c9190a24caeae33b10eee8f367a1e3f1f0c)\n"
          ]
        },
        {
          "output_type": "display_data",
          "data": {
            "text/plain": [
              "  0%|          | 0/2 [00:00<?, ?it/s]"
            ],
            "application/vnd.jupyter.widget-view+json": {
              "version_major": 2,
              "version_minor": 0,
              "model_id": "e5e866888ef341f798c88001d0631497"
            }
          },
          "metadata": {}
        }
      ],
      "source": [
        "import datasets\n",
        "import pandas as pd\n",
        "\n",
        "df_train, df_test = datasets.load_dataset(\n",
        "    'dbpedia_14', \n",
        "    split=['train', \n",
        "           'test']\n",
        ")\n",
        "\n",
        "df_train = df_train.to_pandas().sample(frac=1).reset_index(drop=True)[:int(0.8 * M)]\n",
        "df_test = df_test.to_pandas().sample(frac=1).reset_index(drop=True)[:int(0.2 * M)]"
      ]
    },
    {
      "cell_type": "markdown",
      "metadata": {
        "id": "tL7neLwmM7J2"
      },
      "source": [
        "### (3 pts) Task 1: Analyze the data\n",
        "\n",
        "a. What is the distribution of the labels in this data? \n",
        "\n",
        "*Hint*: https://pandas.pydata.org/docs/reference/api/pandas.DataFrame.hist.html\n",
        "\n",
        "b. Compute the distribution of sentence length in the dataset\n",
        "\n",
        "c. Are there any differences between the train and test sets? If so make any necessary changes to the train/test sets such that they look the same."
      ]
    },
    {
      "cell_type": "code",
      "execution_count": 5,
      "metadata": {
        "id": "oY5z28mGsAKy"
      },
      "outputs": [],
      "source": [
        "import seaborn as sns\n",
        "import matplotlib.pyplot as plt"
      ]
    },
    {
      "cell_type": "code",
      "execution_count": 6,
      "metadata": {
        "colab": {
          "base_uri": "https://localhost:8080/",
          "height": 513
        },
        "id": "IOLDkaKgsAKy",
        "outputId": "6abc8e17-5868-479d-83f6-f0d6df33f9b0"
      },
      "outputs": [
        {
          "output_type": "display_data",
          "data": {
            "text/plain": [
              "<Figure size 1440x576 with 2 Axes>"
            ],
            "image/png": "[encoded data removed]"
          },
          "metadata": {
            "needs_background": "light"
          }
        }
      ],
      "source": [
        "# Your code goes here\n",
        "\n",
        "# a. \n",
        "# The distributions of the labels in both train and test datasets are like uniform distribution.\n",
        "\n",
        "fig,ax= plt.subplots(1,2,figsize=(20, 8),sharey=True) # plot side by side\n",
        "sns.histplot(df_train['label'], kde=True, bins=14,ax=ax[0],color= 'brown') # for labeles in df_train\n",
        "sns.histplot(df_test['label'], kde=True, bins=14,ax=ax[1],color='coral') # for labels in df_test\n",
        "ax[0].set_title('Histogram of the labels in df_train')\n",
        "ax[1].set_title('Histogram of the labels in df_test')\n",
        "fig.show()"
      ]
    },
    {
      "cell_type": "code",
      "execution_count": 8,
      "metadata": {
        "colab": {
          "base_uri": "https://localhost:8080/",
          "height": 514
        },
        "id": "QYldbJsssAKz",
        "outputId": "d36c6659-1415-4224-f669-c21cf2dbe10b"
      },
      "outputs": [
        {
          "output_type": "display_data",
          "data": {
            "text/plain": [
              "<Figure size 1440x576 with 2 Axes>"
            ],
            "image/png": "[encoded data removed]"
          },
          "metadata": {
            "needs_background": "light"
          }
        }
      ],
      "source": [
        "# b. \n",
        "# The distribution of sentence length in this dataset is like unifrom\n",
        "\n",
        "df_train['sentence_length'] = df_train.content.str.split().str.len()\n",
        "df_test['sentence_length'] = df_test.content.str.split().str.len()\n",
        "\n",
        "fig,ax= plt.subplots(1,2,figsize=(20, 8),sharey=True) # plot side by side\n",
        "sns.histplot(df_train['sentence_length'],kde=True,ax=ax[0]) # for sentence length in df_train\n",
        "sns.histplot(df_test['sentence_length'],kde=True,ax=ax[1]) # for sentence length in df_test\n",
        "ax[0].set_title('Histogram of the sentence length in df_train')\n",
        "ax[1].set_title('Histogram of the sentence length in df_test')\n",
        "fig.show()"
      ]
    },
    {
      "cell_type": "code",
      "execution_count": 20,
      "metadata": {
        "id": "plKm685GsAKz"
      },
      "outputs": [],
      "source": [
        "# c. \n",
        "# there are no difference in distribution between df_train and df_test. \n",
        "# They both are in different size but are still like unifrom distribution. "
      ]
    },
    {
      "cell_type": "markdown",
      "metadata": {
        "id": "TJlkSeUmRMQ6",
        "tags": []
      },
      "source": [
        "## Train BERT on DBpedia14\n",
        "\n",
        "Here you will use Google CoLab, which provides free (but limited) use of hosted GPU instances.\n",
        "\n",
        "Before doing this, take a look at the leaderboard for DBpedia14: https://paperswithcode.com/dataset/dbpedia. You'll find various transformers (including BERT) at the top. Here we will use a smaller version of BERT called DistilBERT which reduces the computational overhead with only marginal performance degradation, and only two training epochs over an abridged version of the dataset.\n",
        "\n",
        "### Google CoLab\n",
        "\n",
        "To complete the tasks below you will need to login to a Google account and then go here: https://colab.research.google.com. Then do the following:\n",
        "\n",
        "1. End any existing CoLab sessions that you have running\n",
        "\n",
        "2. Click on the `Upload` tab and upload this file\n",
        "\n",
        "3. Click on `Runtime -> Change runtime type` and select `GPU`"
      ]
    },
    {
      "cell_type": "markdown",
      "metadata": {
        "tags": [],
        "id": "gLonESwYsAK0"
      },
      "source": [
        "### Install packages"
      ]
    },
    {
      "cell_type": "code",
      "execution_count": 11,
      "metadata": {
        "id": "K2h7HlCHsAK0"
      },
      "outputs": [],
      "source": [
        "!pip install -q transformers torch"
      ]
    },
    {
      "cell_type": "markdown",
      "metadata": {
        "id": "EW3n0g4FsAK1"
      },
      "source": [
        "### Restart runtime\n",
        "\n",
        "After running the cell above, click `Runtime -> Restart runtime`. This only needs to be done one time per session."
      ]
    },
    {
      "cell_type": "markdown",
      "metadata": {
        "id": "LU0ogJe5sG3d"
      },
      "source": [
        "### Training Hyperparameters"
      ]
    },
    {
      "cell_type": "code",
      "execution_count": 12,
      "metadata": {
        "id": "lTvbwtIvsAK1"
      },
      "outputs": [],
      "source": [
        "batch_size = 32\n",
        "epochs = 2\n",
        "lr_init = 1e-5\n",
        "max_len = 128\n",
        "warmup_steps = 3"
      ]
    },
    {
      "cell_type": "markdown",
      "metadata": {
        "id": "bwzhABvMsAK1"
      },
      "source": [
        "### (7 pts) Task 2: Create batched inputs using Huggingface's DistilBERT tokenizer "
      ]
    },
    {
      "cell_type": "code",
      "execution_count": 13,
      "metadata": {
        "id": "u3lKXjp1b0UL"
      },
      "outputs": [],
      "source": [
        "from typing import List, Tuple\n",
        "import torch\n",
        "from transformers import DistilBertTokenizerFast\n",
        "from transformers.tokenization_utils_base import BatchEncoding\n",
        "\n",
        "tokenizer = DistilBertTokenizerFast.from_pretrained('distilbert-base-cased')"
      ]
    },
    {
      "cell_type": "code",
      "source": [
        "import pandas as pd"
      ],
      "metadata": {
        "id": "_M79jo_7oGB-"
      },
      "execution_count": 14,
      "outputs": []
    },
    {
      "cell_type": "code",
      "execution_count": 37,
      "metadata": {
        "id": "1_jP2jogsAK4"
      },
      "outputs": [],
      "source": [
        "def batch_data(data: pd.DataFrame, bsize: int) -> List[Tuple[BatchEncoding, List[int], List[str]]]:\n",
        "    \"\"\"\n",
        "    This Function accepts a Pandas DataFrame and a batch size and returns\n",
        "    a list of training 'batches', each of which is a tuple of:\n",
        "        ( X, Y, s )\n",
        "    where\n",
        "        X: BatchEncoding ∈ R^(`bsize` x `T_max` x `D`)    inputs\n",
        "        Y: torch.Tensor ∈ Z^(`bsize` x `1`)               ground truth labels\n",
        "        s: List[str] w/ len `bsize`                       sentences (i.e., documents)\n",
        "    \n",
        "    Note: refer to the `DistilBertTokenizerFast.batch_encode_plus()` method to produce X\n",
        "    \"\"\"\n",
        "    # Your code goes here\n",
        "    batches = [] # list of batches\n",
        "    for i in range(0, len(list(data['content'])), bsize):\n",
        "      Y = list(data['label'])[i: i + bsize]\n",
        "      s = list(data['content'])[i: i + bsize]\n",
        "      X = tokenizer.batch_encode_plus(s)\n",
        "      batches.append((X, Y, s))\n",
        "    return batches"
      ]
    },
    {
      "cell_type": "markdown",
      "metadata": {
        "id": "Sh79cPGEsAK4"
      },
      "source": [
        "### Create train/test splits"
      ]
    },
    {
      "cell_type": "code",
      "execution_count": 38,
      "metadata": {
        "id": "laagvSPvsAK4"
      },
      "outputs": [],
      "source": [
        "train_batches = batch_data(df_train, bsize=batch_size)\n",
        "test_batches = batch_data(df_test, bsize=batch_size)"
      ]
    },
    {
      "cell_type": "markdown",
      "metadata": {
        "id": "YowLiDU3sAK5"
      },
      "source": [
        "### Load pretrained Distilbert model\n",
        "\n",
        "This cell uses the `DistilBertForSequenceClassification` class, which is a convenience wrapper that places a classification head onto the DistilBert language model. "
      ]
    },
    {
      "cell_type": "code",
      "execution_count": 39,
      "metadata": {
        "colab": {
          "base_uri": "https://localhost:8080/"
        },
        "id": "wBWQH1YgMjs3",
        "outputId": "5f9d2747-de37-47b4-cfba-87e9474ef2da"
      },
      "outputs": [
        {
          "output_type": "stream",
          "name": "stderr",
          "text": [
            "Some weights of the model checkpoint at distilbert-base-cased were not used when initializing DistilBertForSequenceClassification: ['vocab_layer_norm.bias', 'vocab_projector.bias', 'vocab_transform.bias', 'vocab_projector.weight', 'vocab_layer_norm.weight', 'vocab_transform.weight']\n",
            "- This IS expected if you are initializing DistilBertForSequenceClassification from the checkpoint of a model trained on another task or with another architecture (e.g. initializing a BertForSequenceClassification model from a BertForPreTraining model).\n",
            "- This IS NOT expected if you are initializing DistilBertForSequenceClassification from the checkpoint of a model that you expect to be exactly identical (initializing a BertForSequenceClassification model from a BertForSequenceClassification model).\n",
            "Some weights of DistilBertForSequenceClassification were not initialized from the model checkpoint at distilbert-base-cased and are newly initialized: ['pre_classifier.bias', 'classifier.bias', 'pre_classifier.weight', 'classifier.weight']\n",
            "You should probably TRAIN this model on a down-stream task to be able to use it for predictions and inference.\n"
          ]
        }
      ],
      "source": [
        "from tqdm import tqdm\n",
        "import torch\n",
        "from transformers import DistilBertForSequenceClassification, \\\n",
        "  AdamW, get_linear_schedule_with_warmup\n",
        "\n",
        "# Transformer model\n",
        "model = DistilBertForSequenceClassification.from_pretrained(\n",
        "    'distilbert-base-cased', \n",
        "    num_labels=K, \n",
        "    output_hidden_states=True)\n",
        "\n",
        "# The torch `device` on which to execute the model computation\n",
        "if torch.cuda.is_available():\n",
        "    device = torch.device('cuda:0') # GPU\n",
        "else:\n",
        "    device = torch.device('cpu') # CPU\n",
        "model.to(device)\n",
        "\n",
        "# The gradient descent optimizer used for fine tuning\n",
        "optimizer = AdamW(model.parameters(), lr=lr_init)\n",
        "\n",
        "# The gradient descent learning rate\n",
        "lr = get_linear_schedule_with_warmup(\n",
        "    optimizer, num_warmup_steps=warmup_steps, \n",
        "    num_training_steps=len(train_batches))"
      ]
    },
    {
      "cell_type": "markdown",
      "metadata": {
        "id": "6mmOBg1tsAK5"
      },
      "source": [
        "### (10 pts) Task 3: Implement a training loop from scratch\n",
        "\n",
        "Here you need to:\n",
        "\n",
        "1. Implement the `runner()` method below\n",
        "2. Train the DistilBert model on the training set\n",
        "3. Compute and print out the loss, accuracy, and f1-score of the trained model on the train and tests sets\n",
        "4. Provide a brief summary of the results and place them in context to other modeling approaches (e.g.word2vec from lecture 03, the CBOW NN from lecture 08).\n",
        "\n",
        "*Note: You're encouraged to use the Huggingface documentation to complete this task!*\n",
        "\n",
        "*Note: This should take about 20 minutes on CoLabs K80 GPUs*"
      ]
    },
    {
      "cell_type": "code",
      "execution_count": 43,
      "metadata": {
        "id": "oc6RBHDSsAK5"
      },
      "outputs": [],
      "source": [
        "from datasets import load_metric\n",
        "\n",
        "def runner(batches, desc: str, train=True):\n",
        "    \"\"\"\n",
        "    This function accepts a list of batches (i.e., the output of batch_data())\n",
        "    and returns a tuple consisting of:\n",
        "        (predictions, cls-embeddings, mean-loss, accuracy, f1-score)\n",
        "    where\n",
        "        preditions: List[pred for each input]\n",
        "        cls-embeddings: List[bert's cls embeddings for each input]\n",
        "        mean-loss: mean loss computed over data in batches\n",
        "        mean-accuracy: mean accuracy computed over data in batches\n",
        "        mean-f1-score: mean f1 score computed over data in batches\n",
        "    \"\"\"\n",
        "    pred =[]\n",
        "    acc = load_metric(\"accuracy\")\n",
        "    f1 = load_metric(\"f1\")\n",
        "    cumloss = 0.0\n",
        "\n",
        "    for i, batch in enumerate(batches):\n",
        "      X, Y, s = batch\n",
        "      input_ids = torch.tensor(X['input_ids'])\n",
        "      attention_mask = torch.tensor(X['attention_mask'])\n",
        "      labels = torch.tensor(Y)\n",
        "      batch = {'input_ids': input_ids,\n",
        "               'attention_mask': attention_mask,\n",
        "               'labels': labels}\n",
        "\n",
        "    outputs = model(**batch, labels=labels)\n",
        "    loss = outputs.loss\n",
        "    logits = outputs.logits\n",
        "\n",
        "    predicted = torch.argmax(logits, dim=-1)\n",
        "    pred.append(predicted)\n",
        "    cumloss += loss.clone().detach().cpu().item()\n",
        "    acc.add_batch(predictions=predicted, references=Y)\n",
        "    f1.add_batch(predictions=predicted, references=Y)\n",
        "\n",
        "    return preds"
      ]
    },
    {
      "cell_type": "markdown",
      "metadata": {
        "id": "F7IM0hhosOf6"
      },
      "source": [
        "### (2 pts) Task 4: test your model on new string\n",
        "\n",
        "Make up (or find) a document that maps to one of the 14 classes in DBpedia14. Is the model's prediction in agreement with your label assignment? The cell below contains some helper code to get you started. To compute the model prediction, reuse the `batch_data()` and `runner()` functions."
      ]
    },
    {
      "cell_type": "code",
      "execution_count": 40,
      "metadata": {
        "id": "xai30ZLxCuQ0"
      },
      "outputs": [],
      "source": [
        "import numpy as np\n",
        "import pandas as pd\n",
        "\n",
        "example_text = \"\"\"Her is a 2013 American science-fiction romantic drama film written, \n",
        "directed, and produced by Spike Jonze. It marks Jonze's solo screenwriting debut. \n",
        "The film follows Theodore Twombly (Joaquin Phoenix), a man who develops a relationship \n",
        "with Samantha (Scarlett Johansson), an artificially intelligent virtual assistant \n",
        "personified through a female voice.\"\"\"\n",
        "\n",
        "example_ground_truth_label = 12 # \"film\"\n",
        "\n",
        "df = pd.DataFrame({'content': [example_text], \n",
        "                   'label': example_ground_truth_label, \n",
        "                   'title': None})"
      ]
    },
    {
      "cell_type": "code",
      "execution_count": 44,
      "metadata": {
        "colab": {
          "base_uri": "https://localhost:8080/",
          "height": 449,
          "referenced_widgets": [
            "b48291ede65147079c8ad5f024a1c098",
            "c1ad637c99fe4261ae76eba8ca74c8d8",
            "023a26f09cc946fdbf5acd6860118f27",
            "6718da5eaad448f6baf7ed10727ae6c4",
            "2d0dc923800246e9a1ce7e2f7da7599e",
            "469362f3e3554253aafb7d16809f218e",
            "d4f3057f44674325a2e6b3617f6e6321",
            "87825faab37c4c42b38646d53f121937",
            "98fe29b807744ba3a5dcec62c3c375fc",
            "362615c20c8c4dffa00339fbe0662925",
            "2092d1f72ffd4db7b3648ddf00b5ce47",
            "3ddca834ee9a49a5b39dd1461600e317",
            "3dde2014b568401c824a72e74980808d",
            "63d11996bbb44a6493f8b507d562fac8",
            "07146001d1f54838a5c31c928b66a778",
            "577be7965c8c4f05987e548ee9f94e74",
            "74726a6aad47489cbf129c3460a30ff4",
            "fbcf31043d50497ab7d98d65f976b8a1",
            "16004f20079746babf057919edf67ee1",
            "258df43aca834a9a81dea67c9876ce84",
            "d940e85177254c2eb192c534122615ed",
            "62668edced6445cfb5c6f48c9f32b237"
          ]
        },
        "id": "yyPXgf7csAK6",
        "outputId": "304f9a54-04a8-44a4-988f-75bc023871bb"
      },
      "outputs": [
        {
          "output_type": "stream",
          "name": "stderr",
          "text": [
            "/usr/local/lib/python3.7/dist-packages/ipykernel_launcher.py:16: FutureWarning: load_metric is deprecated and will be removed in the next major version of datasets. Use 'evaluate.load' instead, from the new library 🤗 Evaluate: https://huggingface.co/docs/evaluate\n",
            "  app.launch_new_instance()\n"
          ]
        },
        {
          "output_type": "display_data",
          "data": {
            "text/plain": [
              "Downloading builder script:   0%|          | 0.00/1.65k [00:00<?, ?B/s]"
            ],
            "application/vnd.jupyter.widget-view+json": {
              "version_major": 2,
              "version_minor": 0,
              "model_id": "b48291ede65147079c8ad5f024a1c098"
            }
          },
          "metadata": {}
        },
        {
          "output_type": "display_data",
          "data": {
            "text/plain": [
              "Downloading builder script:   0%|          | 0.00/2.32k [00:00<?, ?B/s]"
            ],
            "application/vnd.jupyter.widget-view+json": {
              "version_major": 2,
              "version_minor": 0,
              "model_id": "3ddca834ee9a49a5b39dd1461600e317"
            }
          },
          "metadata": {}
        },
        {
          "output_type": "error",
          "ename": "TypeError",
          "evalue": "ignored",
          "traceback": [
            "\u001b[0;31m---------------------------------------------------------------------------\u001b[0m",
            "\u001b[0;31mTypeError\u001b[0m                                 Traceback (most recent call last)",
            "\u001b[0;32m<ipython-input-44-c16f37ccc867>\u001b[0m in \u001b[0;36m<module>\u001b[0;34m\u001b[0m\n\u001b[1;32m      1\u001b[0m \u001b[0;31m# Your code goes here\u001b[0m\u001b[0;34m\u001b[0m\u001b[0;34m\u001b[0m\u001b[0;34m\u001b[0m\u001b[0m\n\u001b[1;32m      2\u001b[0m \u001b[0mbatches_new\u001b[0m \u001b[0;34m=\u001b[0m \u001b[0mbatch_data\u001b[0m\u001b[0;34m(\u001b[0m\u001b[0mdf\u001b[0m\u001b[0;34m,\u001b[0m \u001b[0mbsize\u001b[0m\u001b[0;34m=\u001b[0m\u001b[0mbatch_size\u001b[0m\u001b[0;34m)\u001b[0m\u001b[0;34m\u001b[0m\u001b[0;34m\u001b[0m\u001b[0m\n\u001b[0;32m----> 3\u001b[0;31m \u001b[0mrunner\u001b[0m\u001b[0;34m(\u001b[0m\u001b[0mbatches_new\u001b[0m\u001b[0;34m,\u001b[0m \u001b[0;34m'test_example'\u001b[0m\u001b[0;34m,\u001b[0m \u001b[0mtrain\u001b[0m\u001b[0;34m=\u001b[0m\u001b[0;32mFalse\u001b[0m\u001b[0;34m)\u001b[0m\u001b[0;34m\u001b[0m\u001b[0;34m\u001b[0m\u001b[0m\n\u001b[0m",
            "\u001b[0;32m<ipython-input-43-76dc156054ca>\u001b[0m in \u001b[0;36mrunner\u001b[0;34m(batches, desc, train)\u001b[0m\n\u001b[1;32m     27\u001b[0m                'labels': labels}\n\u001b[1;32m     28\u001b[0m \u001b[0;34m\u001b[0m\u001b[0m\n\u001b[0;32m---> 29\u001b[0;31m     \u001b[0moutputs\u001b[0m \u001b[0;34m=\u001b[0m \u001b[0mmodel\u001b[0m\u001b[0;34m(\u001b[0m\u001b[0;34m**\u001b[0m\u001b[0mbatch\u001b[0m\u001b[0;34m,\u001b[0m \u001b[0mlabels\u001b[0m\u001b[0;34m=\u001b[0m\u001b[0mlabels\u001b[0m\u001b[0;34m)\u001b[0m\u001b[0;34m\u001b[0m\u001b[0;34m\u001b[0m\u001b[0m\n\u001b[0m\u001b[1;32m     30\u001b[0m     \u001b[0mloss\u001b[0m \u001b[0;34m=\u001b[0m \u001b[0moutputs\u001b[0m\u001b[0;34m.\u001b[0m\u001b[0mloss\u001b[0m\u001b[0;34m\u001b[0m\u001b[0;34m\u001b[0m\u001b[0m\n\u001b[1;32m     31\u001b[0m     \u001b[0mlogits\u001b[0m \u001b[0;34m=\u001b[0m \u001b[0moutputs\u001b[0m\u001b[0;34m.\u001b[0m\u001b[0mlogits\u001b[0m\u001b[0;34m\u001b[0m\u001b[0;34m\u001b[0m\u001b[0m\n",
            "\u001b[0;31mTypeError\u001b[0m: DistilBertForSequenceClassification object got multiple values for keyword argument 'labels'"
          ]
        }
      ],
      "source": [
        "# Your code goes here\n",
        "batches_new = batch_data(df, bsize=batch_size)\n",
        "runner(batches_new, 'test_example', train=False)"
      ]
    },
    {
      "cell_type": "markdown",
      "metadata": {
        "id": "7mNzs0l9O4V-"
      },
      "source": [
        "### (3 pts) Task 5: Extract the document embeddings and visualize them in Tensorboard Projector"
      ]
    },
    {
      "cell_type": "markdown",
      "metadata": {
        "id": "O49SErS7sAK6"
      },
      "source": [
        "### TSV helper functions from Lecture 05"
      ]
    },
    {
      "cell_type": "code",
      "execution_count": 45,
      "metadata": {
        "id": "R8V5hRkZsAK6"
      },
      "outputs": [],
      "source": [
        "def save_matrix(matrix, fpath):\n",
        "    D1, D2 = matrix.shape\n",
        "    tsv = \"\"\n",
        "    for i in range(D1):\n",
        "        for j in range(D2):\n",
        "            tsv += str(matrix[i, j]) + '\\t'\n",
        "        tsv = tsv.strip('\\t') + '\\n'\n",
        "    tsv = tsv.strip('\\n')\n",
        "    with open(fpath, \"w\") as fd:\n",
        "        fd.write(tsv)\n",
        "\n",
        "def save_docs(docs, labels, fpath):\n",
        "    tsv = \"document\\tlabel\\n\"\n",
        "    for doc, label in zip(docs, labels):\n",
        "        tsv += doc.lower().strip() + '\\t' + label + '\\n'\n",
        "    tsv = tsv.strip('\\n')\n",
        "    with open(fpath, \"w\") as fd:\n",
        "        fd.write(tsv)"
      ]
    },
    {
      "cell_type": "markdown",
      "metadata": {
        "id": "uWLjvpZesAK6"
      },
      "source": [
        "### Extract embeddings"
      ]
    },
    {
      "cell_type": "code",
      "execution_count": null,
      "metadata": {
        "id": "S9EtPuIKsAK7"
      },
      "outputs": [],
      "source": [
        "# Your code goes here\n"
      ]
    },
    {
      "cell_type": "markdown",
      "metadata": {
        "id": "sVpsOVrasAK7"
      },
      "source": [
        "### Visualize embeddings\n",
        "\n",
        "The embeddings and text can be saved in tsv format and uploaded here  https://projector.tensorflow.org/ for visualization. Choose the tSNE algorithm."
      ]
    },
    {
      "cell_type": "code",
      "execution_count": null,
      "metadata": {
        "id": "y-Av1zQMsAK7"
      },
      "outputs": [],
      "source": [
        "# Your code goes here"
      ]
    }
  ],
  "metadata": {
    "accelerator": "GPU",
    "colab": {
      "collapsed_sections": [],
      "provenance": [],
      "include_colab_link": true
    },
    "kernelspec": {
      "display_name": "Python 3.10.4 ('anly-580')",
      "language": "python",
      "name": "python3"
    },
    "language_info": {
      "codemirror_mode": {
        "name": "ipython",
        "version": 3
      },
      "file_extension": ".py",
      "mimetype": "text/x-python",
      "name": "python",
      "nbconvert_exporter": "python",
      "pygments_lexer": "ipython3",
      "version": "3.10.4"
    },
    "vscode": {
      "interpreter": {
        "hash": "65b28c80aee1d1db6fcbca19cc6ea5044087ba8fb3f5e0dd14404be4935203a1"
      }
    },
    "gpuClass": "standard",
    "widgets": {
      "application/vnd.jupyter.widget-state+json": {
        "e5e866888ef341f798c88001d0631497": {
          "model_module": "@jupyter-widgets/controls",
          "model_name": "HBoxModel",
          "model_module_version": "1.5.0",
          "state": {
            "_dom_classes": [],
            "_model_module": "@jupyter-widgets/controls",
            "_model_module_version": "1.5.0",
            "_model_name": "HBoxModel",
            "_view_count": null,
            "_view_module": "@jupyter-widgets/controls",
            "_view_module_version": "1.5.0",
            "_view_name": "HBoxView",
            "box_style": "",
            "children": [
              "IPY_MODEL_46510494d441477db318d07c904c54db",
              "IPY_MODEL_3072c86a429d4049972bcc7ef8b15f22",
              "IPY_MODEL_7ba88e7f68c34948b52d466e501067f0"
            ],
            "layout": "IPY_MODEL_78b493150aad40e1ae718aea8adbb965"
          }
        },
        "46510494d441477db318d07c904c54db": {
          "model_module": "@jupyter-widgets/controls",
          "model_name": "HTMLModel",
          "model_module_version": "1.5.0",
          "state": {
            "_dom_classes": [],
            "_model_module": "@jupyter-widgets/controls",
            "_model_module_version": "1.5.0",
            "_model_name": "HTMLModel",
            "_view_count": null,
            "_view_module": "@jupyter-widgets/controls",
            "_view_module_version": "1.5.0",
            "_view_name": "HTMLView",
            "description": "",
            "description_tooltip": null,
            "layout": "IPY_MODEL_15b6ee241f1941848533eeb9ef5871d3",
            "placeholder": "​",
            "style": "IPY_MODEL_9ab279d614754f09a1d11c3e4ccd1c80",
            "value": "100%"
          }
        },
        "3072c86a429d4049972bcc7ef8b15f22": {
          "model_module": "@jupyter-widgets/controls",
          "model_name": "FloatProgressModel",
          "model_module_version": "1.5.0",
          "state": {
            "_dom_classes": [],
            "_model_module": "@jupyter-widgets/controls",
            "_model_module_version": "1.5.0",
            "_model_name": "FloatProgressModel",
            "_view_count": null,
            "_view_module": "@jupyter-widgets/controls",
            "_view_module_version": "1.5.0",
            "_view_name": "ProgressView",
            "bar_style": "success",
            "description": "",
            "description_tooltip": null,
            "layout": "IPY_MODEL_51f82a7501024aceb8bd99e69509591a",
            "max": 2,
            "min": 0,
            "orientation": "horizontal",
            "style": "IPY_MODEL_c6be36821a4b45e89649d65a300506bd",
            "value": 2
          }
        },
        "7ba88e7f68c34948b52d466e501067f0": {
          "model_module": "@jupyter-widgets/controls",
          "model_name": "HTMLModel",
          "model_module_version": "1.5.0",
          "state": {
            "_dom_classes": [],
            "_model_module": "@jupyter-widgets/controls",
            "_model_module_version": "1.5.0",
            "_model_name": "HTMLModel",
            "_view_count": null,
            "_view_module": "@jupyter-widgets/controls",
            "_view_module_version": "1.5.0",
            "_view_name": "HTMLView",
            "description": "",
            "description_tooltip": null,
            "layout": "IPY_MODEL_bbe01f1ab6974c589be74047e2338f8f",
            "placeholder": "​",
            "style": "IPY_MODEL_3726489ed09d42318aa82cf8c81410a6",
            "value": " 2/2 [00:00&lt;00:00,  9.65it/s]"
          }
        },
        "78b493150aad40e1ae718aea8adbb965": {
          "model_module": "@jupyter-widgets/base",
          "model_name": "LayoutModel",
          "model_module_version": "1.2.0",
          "state": {
            "_model_module": "@jupyter-widgets/base",
            "_model_module_version": "1.2.0",
            "_model_name": "LayoutModel",
            "_view_count": null,
            "_view_module": "@jupyter-widgets/base",
            "_view_module_version": "1.2.0",
            "_view_name": "LayoutView",
            "align_content": null,
            "align_items": null,
            "align_self": null,
            "border": null,
            "bottom": null,
            "display": null,
            "flex": null,
            "flex_flow": null,
            "grid_area": null,
            "grid_auto_columns": null,
            "grid_auto_flow": null,
            "grid_auto_rows": null,
            "grid_column": null,
            "grid_gap": null,
            "grid_row": null,
            "grid_template_areas": null,
            "grid_template_columns": null,
            "grid_template_rows": null,
            "height": null,
            "justify_content": null,
            "justify_items": null,
            "left": null,
            "margin": null,
            "max_height": null,
            "max_width": null,
            "min_height": null,
            "min_width": null,
            "object_fit": null,
            "object_position": null,
            "order": null,
            "overflow": null,
            "overflow_x": null,
            "overflow_y": null,
            "padding": null,
            "right": null,
            "top": null,
            "visibility": null,
            "width": null
          }
        },
        "15b6ee241f1941848533eeb9ef5871d3": {
          "model_module": "@jupyter-widgets/base",
          "model_name": "LayoutModel",
          "model_module_version": "1.2.0",
          "state": {
            "_model_module": "@jupyter-widgets/base",
            "_model_module_version": "1.2.0",
            "_model_name": "LayoutModel",
            "_view_count": null,
            "_view_module": "@jupyter-widgets/base",
            "_view_module_version": "1.2.0",
            "_view_name": "LayoutView",
            "align_content": null,
            "align_items": null,
            "align_self": null,
            "border": null,
            "bottom": null,
            "display": null,
            "flex": null,
            "flex_flow": null,
            "grid_area": null,
            "grid_auto_columns": null,
            "grid_auto_flow": null,
            "grid_auto_rows": null,
            "grid_column": null,
            "grid_gap": null,
            "grid_row": null,
            "grid_template_areas": null,
            "grid_template_columns": null,
            "grid_template_rows": null,
            "height": null,
            "justify_content": null,
            "justify_items": null,
            "left": null,
            "margin": null,
            "max_height": null,
            "max_width": null,
            "min_height": null,
            "min_width": null,
            "object_fit": null,
            "object_position": null,
            "order": null,
            "overflow": null,
            "overflow_x": null,
            "overflow_y": null,
            "padding": null,
            "right": null,
            "top": null,
            "visibility": null,
            "width": null
          }
        },
        "9ab279d614754f09a1d11c3e4ccd1c80": {
          "model_module": "@jupyter-widgets/controls",
          "model_name": "DescriptionStyleModel",
          "model_module_version": "1.5.0",
          "state": {
            "_model_module": "@jupyter-widgets/controls",
            "_model_module_version": "1.5.0",
            "_model_name": "DescriptionStyleModel",
            "_view_count": null,
            "_view_module": "@jupyter-widgets/base",
            "_view_module_version": "1.2.0",
            "_view_name": "StyleView",
            "description_width": ""
          }
        },
        "51f82a7501024aceb8bd99e69509591a": {
          "model_module": "@jupyter-widgets/base",
          "model_name": "LayoutModel",
          "model_module_version": "1.2.0",
          "state": {
            "_model_module": "@jupyter-widgets/base",
            "_model_module_version": "1.2.0",
            "_model_name": "LayoutModel",
            "_view_count": null,
            "_view_module": "@jupyter-widgets/base",
            "_view_module_version": "1.2.0",
            "_view_name": "LayoutView",
            "align_content": null,
            "align_items": null,
            "align_self": null,
            "border": null,
            "bottom": null,
            "display": null,
            "flex": null,
            "flex_flow": null,
            "grid_area": null,
            "grid_auto_columns": null,
            "grid_auto_flow": null,
            "grid_auto_rows": null,
            "grid_column": null,
            "grid_gap": null,
            "grid_row": null,
            "grid_template_areas": null,
            "grid_template_columns": null,
            "grid_template_rows": null,
            "height": null,
            "justify_content": null,
            "justify_items": null,
            "left": null,
            "margin": null,
            "max_height": null,
            "max_width": null,
            "min_height": null,
            "min_width": null,
            "object_fit": null,
            "object_position": null,
            "order": null,
            "overflow": null,
            "overflow_x": null,
            "overflow_y": null,
            "padding": null,
            "right": null,
            "top": null,
            "visibility": null,
            "width": null
          }
        },
        "c6be36821a4b45e89649d65a300506bd": {
          "model_module": "@jupyter-widgets/controls",
          "model_name": "ProgressStyleModel",
          "model_module_version": "1.5.0",
          "state": {
            "_model_module": "@jupyter-widgets/controls",
            "_model_module_version": "1.5.0",
            "_model_name": "ProgressStyleModel",
            "_view_count": null,
            "_view_module": "@jupyter-widgets/base",
            "_view_module_version": "1.2.0",
            "_view_name": "StyleView",
            "bar_color": null,
            "description_width": ""
          }
        },
        "bbe01f1ab6974c589be74047e2338f8f": {
          "model_module": "@jupyter-widgets/base",
          "model_name": "LayoutModel",
          "model_module_version": "1.2.0",
          "state": {
            "_model_module": "@jupyter-widgets/base",
            "_model_module_version": "1.2.0",
            "_model_name": "LayoutModel",
            "_view_count": null,
            "_view_module": "@jupyter-widgets/base",
            "_view_module_version": "1.2.0",
            "_view_name": "LayoutView",
            "align_content": null,
            "align_items": null,
            "align_self": null,
            "border": null,
            "bottom": null,
            "display": null,
            "flex": null,
            "flex_flow": null,
            "grid_area": null,
            "grid_auto_columns": null,
            "grid_auto_flow": null,
            "grid_auto_rows": null,
            "grid_column": null,
            "grid_gap": null,
            "grid_row": null,
            "grid_template_areas": null,
            "grid_template_columns": null,
            "grid_template_rows": null,
            "height": null,
            "justify_content": null,
            "justify_items": null,
            "left": null,
            "margin": null,
            "max_height": null,
            "max_width": null,
            "min_height": null,
            "min_width": null,
            "object_fit": null,
            "object_position": null,
            "order": null,
            "overflow": null,
            "overflow_x": null,
            "overflow_y": null,
            "padding": null,
            "right": null,
            "top": null,
            "visibility": null,
            "width": null
          }
        },
        "3726489ed09d42318aa82cf8c81410a6": {
          "model_module": "@jupyter-widgets/controls",
          "model_name": "DescriptionStyleModel",
          "model_module_version": "1.5.0",
          "state": {
            "_model_module": "@jupyter-widgets/controls",
            "_model_module_version": "1.5.0",
            "_model_name": "DescriptionStyleModel",
            "_view_count": null,
            "_view_module": "@jupyter-widgets/base",
            "_view_module_version": "1.2.0",
            "_view_name": "StyleView",
            "description_width": ""
          }
        },
        "b48291ede65147079c8ad5f024a1c098": {
          "model_module": "@jupyter-widgets/controls",
          "model_name": "HBoxModel",
          "model_module_version": "1.5.0",
          "state": {
            "_dom_classes": [],
            "_model_module": "@jupyter-widgets/controls",
            "_model_module_version": "1.5.0",
            "_model_name": "HBoxModel",
            "_view_count": null,
            "_view_module": "@jupyter-widgets/controls",
            "_view_module_version": "1.5.0",
            "_view_name": "HBoxView",
            "box_style": "",
            "children": [
              "IPY_MODEL_c1ad637c99fe4261ae76eba8ca74c8d8",
              "IPY_MODEL_023a26f09cc946fdbf5acd6860118f27",
              "IPY_MODEL_6718da5eaad448f6baf7ed10727ae6c4"
            ],
            "layout": "IPY_MODEL_2d0dc923800246e9a1ce7e2f7da7599e"
          }
        },
        "c1ad637c99fe4261ae76eba8ca74c8d8": {
          "model_module": "@jupyter-widgets/controls",
          "model_name": "HTMLModel",
          "model_module_version": "1.5.0",
          "state": {
            "_dom_classes": [],
            "_model_module": "@jupyter-widgets/controls",
            "_model_module_version": "1.5.0",
            "_model_name": "HTMLModel",
            "_view_count": null,
            "_view_module": "@jupyter-widgets/controls",
            "_view_module_version": "1.5.0",
            "_view_name": "HTMLView",
            "description": "",
            "description_tooltip": null,
            "layout": "IPY_MODEL_469362f3e3554253aafb7d16809f218e",
            "placeholder": "​",
            "style": "IPY_MODEL_d4f3057f44674325a2e6b3617f6e6321",
            "value": "Downloading builder script: "
          }
        },
        "023a26f09cc946fdbf5acd6860118f27": {
          "model_module": "@jupyter-widgets/controls",
          "model_name": "FloatProgressModel",
          "model_module_version": "1.5.0",
          "state": {
            "_dom_classes": [],
            "_model_module": "@jupyter-widgets/controls",
            "_model_module_version": "1.5.0",
            "_model_name": "FloatProgressModel",
            "_view_count": null,
            "_view_module": "@jupyter-widgets/controls",
            "_view_module_version": "1.5.0",
            "_view_name": "ProgressView",
            "bar_style": "success",
            "description": "",
            "description_tooltip": null,
            "layout": "IPY_MODEL_87825faab37c4c42b38646d53f121937",
            "max": 1652,
            "min": 0,
            "orientation": "horizontal",
            "style": "IPY_MODEL_98fe29b807744ba3a5dcec62c3c375fc",
            "value": 1652
          }
        },
        "6718da5eaad448f6baf7ed10727ae6c4": {
          "model_module": "@jupyter-widgets/controls",
          "model_name": "HTMLModel",
          "model_module_version": "1.5.0",
          "state": {
            "_dom_classes": [],
            "_model_module": "@jupyter-widgets/controls",
            "_model_module_version": "1.5.0",
            "_model_name": "HTMLModel",
            "_view_count": null,
            "_view_module": "@jupyter-widgets/controls",
            "_view_module_version": "1.5.0",
            "_view_name": "HTMLView",
            "description": "",
            "description_tooltip": null,
            "layout": "IPY_MODEL_362615c20c8c4dffa00339fbe0662925",
            "placeholder": "​",
            "style": "IPY_MODEL_2092d1f72ffd4db7b3648ddf00b5ce47",
            "value": " 4.21k/? [00:00&lt;00:00, 58.4kB/s]"
          }
        },
        "2d0dc923800246e9a1ce7e2f7da7599e": {
          "model_module": "@jupyter-widgets/base",
          "model_name": "LayoutModel",
          "model_module_version": "1.2.0",
          "state": {
            "_model_module": "@jupyter-widgets/base",
            "_model_module_version": "1.2.0",
            "_model_name": "LayoutModel",
            "_view_count": null,
            "_view_module": "@jupyter-widgets/base",
            "_view_module_version": "1.2.0",
            "_view_name": "LayoutView",
            "align_content": null,
            "align_items": null,
            "align_self": null,
            "border": null,
            "bottom": null,
            "display": null,
            "flex": null,
            "flex_flow": null,
            "grid_area": null,
            "grid_auto_columns": null,
            "grid_auto_flow": null,
            "grid_auto_rows": null,
            "grid_column": null,
            "grid_gap": null,
            "grid_row": null,
            "grid_template_areas": null,
            "grid_template_columns": null,
            "grid_template_rows": null,
            "height": null,
            "justify_content": null,
            "justify_items": null,
            "left": null,
            "margin": null,
            "max_height": null,
            "max_width": null,
            "min_height": null,
            "min_width": null,
            "object_fit": null,
            "object_position": null,
            "order": null,
            "overflow": null,
            "overflow_x": null,
            "overflow_y": null,
            "padding": null,
            "right": null,
            "top": null,
            "visibility": null,
            "width": null
          }
        },
        "469362f3e3554253aafb7d16809f218e": {
          "model_module": "@jupyter-widgets/base",
          "model_name": "LayoutModel",
          "model_module_version": "1.2.0",
          "state": {
            "_model_module": "@jupyter-widgets/base",
            "_model_module_version": "1.2.0",
            "_model_name": "LayoutModel",
            "_view_count": null,
            "_view_module": "@jupyter-widgets/base",
            "_view_module_version": "1.2.0",
            "_view_name": "LayoutView",
            "align_content": null,
            "align_items": null,
            "align_self": null,
            "border": null,
            "bottom": null,
            "display": null,
            "flex": null,
            "flex_flow": null,
            "grid_area": null,
            "grid_auto_columns": null,
            "grid_auto_flow": null,
            "grid_auto_rows": null,
            "grid_column": null,
            "grid_gap": null,
            "grid_row": null,
            "grid_template_areas": null,
            "grid_template_columns": null,
            "grid_template_rows": null,
            "height": null,
            "justify_content": null,
            "justify_items": null,
            "left": null,
            "margin": null,
            "max_height": null,
            "max_width": null,
            "min_height": null,
            "min_width": null,
            "object_fit": null,
            "object_position": null,
            "order": null,
            "overflow": null,
            "overflow_x": null,
            "overflow_y": null,
            "padding": null,
            "right": null,
            "top": null,
            "visibility": null,
            "width": null
          }
        },
        "d4f3057f44674325a2e6b3617f6e6321": {
          "model_module": "@jupyter-widgets/controls",
          "model_name": "DescriptionStyleModel",
          "model_module_version": "1.5.0",
          "state": {
            "_model_module": "@jupyter-widgets/controls",
            "_model_module_version": "1.5.0",
            "_model_name": "DescriptionStyleModel",
            "_view_count": null,
            "_view_module": "@jupyter-widgets/base",
            "_view_module_version": "1.2.0",
            "_view_name": "StyleView",
            "description_width": ""
          }
        },
        "87825faab37c4c42b38646d53f121937": {
          "model_module": "@jupyter-widgets/base",
          "model_name": "LayoutModel",
          "model_module_version": "1.2.0",
          "state": {
            "_model_module": "@jupyter-widgets/base",
            "_model_module_version": "1.2.0",
            "_model_name": "LayoutModel",
            "_view_count": null,
            "_view_module": "@jupyter-widgets/base",
            "_view_module_version": "1.2.0",
            "_view_name": "LayoutView",
            "align_content": null,
            "align_items": null,
            "align_self": null,
            "border": null,
            "bottom": null,
            "display": null,
            "flex": null,
            "flex_flow": null,
            "grid_area": null,
            "grid_auto_columns": null,
            "grid_auto_flow": null,
            "grid_auto_rows": null,
            "grid_column": null,
            "grid_gap": null,
            "grid_row": null,
            "grid_template_areas": null,
            "grid_template_columns": null,
            "grid_template_rows": null,
            "height": null,
            "justify_content": null,
            "justify_items": null,
            "left": null,
            "margin": null,
            "max_height": null,
            "max_width": null,
            "min_height": null,
            "min_width": null,
            "object_fit": null,
            "object_position": null,
            "order": null,
            "overflow": null,
            "overflow_x": null,
            "overflow_y": null,
            "padding": null,
            "right": null,
            "top": null,
            "visibility": null,
            "width": null
          }
        },
        "98fe29b807744ba3a5dcec62c3c375fc": {
          "model_module": "@jupyter-widgets/controls",
          "model_name": "ProgressStyleModel",
          "model_module_version": "1.5.0",
          "state": {
            "_model_module": "@jupyter-widgets/controls",
            "_model_module_version": "1.5.0",
            "_model_name": "ProgressStyleModel",
            "_view_count": null,
            "_view_module": "@jupyter-widgets/base",
            "_view_module_version": "1.2.0",
            "_view_name": "StyleView",
            "bar_color": null,
            "description_width": ""
          }
        },
        "362615c20c8c4dffa00339fbe0662925": {
          "model_module": "@jupyter-widgets/base",
          "model_name": "LayoutModel",
          "model_module_version": "1.2.0",
          "state": {
            "_model_module": "@jupyter-widgets/base",
            "_model_module_version": "1.2.0",
            "_model_name": "LayoutModel",
            "_view_count": null,
            "_view_module": "@jupyter-widgets/base",
            "_view_module_version": "1.2.0",
            "_view_name": "LayoutView",
            "align_content": null,
            "align_items": null,
            "align_self": null,
            "border": null,
            "bottom": null,
            "display": null,
            "flex": null,
            "flex_flow": null,
            "grid_area": null,
            "grid_auto_columns": null,
            "grid_auto_flow": null,
            "grid_auto_rows": null,
            "grid_column": null,
            "grid_gap": null,
            "grid_row": null,
            "grid_template_areas": null,
            "grid_template_columns": null,
            "grid_template_rows": null,
            "height": null,
            "justify_content": null,
            "justify_items": null,
            "left": null,
            "margin": null,
            "max_height": null,
            "max_width": null,
            "min_height": null,
            "min_width": null,
            "object_fit": null,
            "object_position": null,
            "order": null,
            "overflow": null,
            "overflow_x": null,
            "overflow_y": null,
            "padding": null,
            "right": null,
            "top": null,
            "visibility": null,
            "width": null
          }
        },
        "2092d1f72ffd4db7b3648ddf00b5ce47": {
          "model_module": "@jupyter-widgets/controls",
          "model_name": "DescriptionStyleModel",
          "model_module_version": "1.5.0",
          "state": {
            "_model_module": "@jupyter-widgets/controls",
            "_model_module_version": "1.5.0",
            "_model_name": "DescriptionStyleModel",
            "_view_count": null,
            "_view_module": "@jupyter-widgets/base",
            "_view_module_version": "1.2.0",
            "_view_name": "StyleView",
            "description_width": ""
          }
        },
        "3ddca834ee9a49a5b39dd1461600e317": {
          "model_module": "@jupyter-widgets/controls",
          "model_name": "HBoxModel",
          "model_module_version": "1.5.0",
          "state": {
            "_dom_classes": [],
            "_model_module": "@jupyter-widgets/controls",
            "_model_module_version": "1.5.0",
            "_model_name": "HBoxModel",
            "_view_count": null,
            "_view_module": "@jupyter-widgets/controls",
            "_view_module_version": "1.5.0",
            "_view_name": "HBoxView",
            "box_style": "",
            "children": [
              "IPY_MODEL_3dde2014b568401c824a72e74980808d",
              "IPY_MODEL_63d11996bbb44a6493f8b507d562fac8",
              "IPY_MODEL_07146001d1f54838a5c31c928b66a778"
            ],
            "layout": "IPY_MODEL_577be7965c8c4f05987e548ee9f94e74"
          }
        },
        "3dde2014b568401c824a72e74980808d": {
          "model_module": "@jupyter-widgets/controls",
          "model_name": "HTMLModel",
          "model_module_version": "1.5.0",
          "state": {
            "_dom_classes": [],
            "_model_module": "@jupyter-widgets/controls",
            "_model_module_version": "1.5.0",
            "_model_name": "HTMLModel",
            "_view_count": null,
            "_view_module": "@jupyter-widgets/controls",
            "_view_module_version": "1.5.0",
            "_view_name": "HTMLView",
            "description": "",
            "description_tooltip": null,
            "layout": "IPY_MODEL_74726a6aad47489cbf129c3460a30ff4",
            "placeholder": "​",
            "style": "IPY_MODEL_fbcf31043d50497ab7d98d65f976b8a1",
            "value": "Downloading builder script: "
          }
        },
        "63d11996bbb44a6493f8b507d562fac8": {
          "model_module": "@jupyter-widgets/controls",
          "model_name": "FloatProgressModel",
          "model_module_version": "1.5.0",
          "state": {
            "_dom_classes": [],
            "_model_module": "@jupyter-widgets/controls",
            "_model_module_version": "1.5.0",
            "_model_name": "FloatProgressModel",
            "_view_count": null,
            "_view_module": "@jupyter-widgets/controls",
            "_view_module_version": "1.5.0",
            "_view_name": "ProgressView",
            "bar_style": "success",
            "description": "",
            "description_tooltip": null,
            "layout": "IPY_MODEL_16004f20079746babf057919edf67ee1",
            "max": 2318,
            "min": 0,
            "orientation": "horizontal",
            "style": "IPY_MODEL_258df43aca834a9a81dea67c9876ce84",
            "value": 2318
          }
        },
        "07146001d1f54838a5c31c928b66a778": {
          "model_module": "@jupyter-widgets/controls",
          "model_name": "HTMLModel",
          "model_module_version": "1.5.0",
          "state": {
            "_dom_classes": [],
            "_model_module": "@jupyter-widgets/controls",
            "_model_module_version": "1.5.0",
            "_model_name": "HTMLModel",
            "_view_count": null,
            "_view_module": "@jupyter-widgets/controls",
            "_view_module_version": "1.5.0",
            "_view_name": "HTMLView",
            "description": "",
            "description_tooltip": null,
            "layout": "IPY_MODEL_d940e85177254c2eb192c534122615ed",
            "placeholder": "​",
            "style": "IPY_MODEL_62668edced6445cfb5c6f48c9f32b237",
            "value": " 6.50k/? [00:00&lt;00:00, 175kB/s]"
          }
        },
        "577be7965c8c4f05987e548ee9f94e74": {
          "model_module": "@jupyter-widgets/base",
          "model_name": "LayoutModel",
          "model_module_version": "1.2.0",
          "state": {
            "_model_module": "@jupyter-widgets/base",
            "_model_module_version": "1.2.0",
            "_model_name": "LayoutModel",
            "_view_count": null,
            "_view_module": "@jupyter-widgets/base",
            "_view_module_version": "1.2.0",
            "_view_name": "LayoutView",
            "align_content": null,
            "align_items": null,
            "align_self": null,
            "border": null,
            "bottom": null,
            "display": null,
            "flex": null,
            "flex_flow": null,
            "grid_area": null,
            "grid_auto_columns": null,
            "grid_auto_flow": null,
            "grid_auto_rows": null,
            "grid_column": null,
            "grid_gap": null,
            "grid_row": null,
            "grid_template_areas": null,
            "grid_template_columns": null,
            "grid_template_rows": null,
            "height": null,
            "justify_content": null,
            "justify_items": null,
            "left": null,
            "margin": null,
            "max_height": null,
            "max_width": null,
            "min_height": null,
            "min_width": null,
            "object_fit": null,
            "object_position": null,
            "order": null,
            "overflow": null,
            "overflow_x": null,
            "overflow_y": null,
            "padding": null,
            "right": null,
            "top": null,
            "visibility": null,
            "width": null
          }
        },
        "74726a6aad47489cbf129c3460a30ff4": {
          "model_module": "@jupyter-widgets/base",
          "model_name": "LayoutModel",
          "model_module_version": "1.2.0",
          "state": {
            "_model_module": "@jupyter-widgets/base",
            "_model_module_version": "1.2.0",
            "_model_name": "LayoutModel",
            "_view_count": null,
            "_view_module": "@jupyter-widgets/base",
            "_view_module_version": "1.2.0",
            "_view_name": "LayoutView",
            "align_content": null,
            "align_items": null,
            "align_self": null,
            "border": null,
            "bottom": null,
            "display": null,
            "flex": null,
            "flex_flow": null,
            "grid_area": null,
            "grid_auto_columns": null,
            "grid_auto_flow": null,
            "grid_auto_rows": null,
            "grid_column": null,
            "grid_gap": null,
            "grid_row": null,
            "grid_template_areas": null,
            "grid_template_columns": null,
            "grid_template_rows": null,
            "height": null,
            "justify_content": null,
            "justify_items": null,
            "left": null,
            "margin": null,
            "max_height": null,
            "max_width": null,
            "min_height": null,
            "min_width": null,
            "object_fit": null,
            "object_position": null,
            "order": null,
            "overflow": null,
            "overflow_x": null,
            "overflow_y": null,
            "padding": null,
            "right": null,
            "top": null,
            "visibility": null,
            "width": null
          }
        },
        "fbcf31043d50497ab7d98d65f976b8a1": {
          "model_module": "@jupyter-widgets/controls",
          "model_name": "DescriptionStyleModel",
          "model_module_version": "1.5.0",
          "state": {
            "_model_module": "@jupyter-widgets/controls",
            "_model_module_version": "1.5.0",
            "_model_name": "DescriptionStyleModel",
            "_view_count": null,
            "_view_module": "@jupyter-widgets/base",
            "_view_module_version": "1.2.0",
            "_view_name": "StyleView",
            "description_width": ""
          }
        },
        "16004f20079746babf057919edf67ee1": {
          "model_module": "@jupyter-widgets/base",
          "model_name": "LayoutModel",
          "model_module_version": "1.2.0",
          "state": {
            "_model_module": "@jupyter-widgets/base",
            "_model_module_version": "1.2.0",
            "_model_name": "LayoutModel",
            "_view_count": null,
            "_view_module": "@jupyter-widgets/base",
            "_view_module_version": "1.2.0",
            "_view_name": "LayoutView",
            "align_content": null,
            "align_items": null,
            "align_self": null,
            "border": null,
            "bottom": null,
            "display": null,
            "flex": null,
            "flex_flow": null,
            "grid_area": null,
            "grid_auto_columns": null,
            "grid_auto_flow": null,
            "grid_auto_rows": null,
            "grid_column": null,
            "grid_gap": null,
            "grid_row": null,
            "grid_template_areas": null,
            "grid_template_columns": null,
            "grid_template_rows": null,
            "height": null,
            "justify_content": null,
            "justify_items": null,
            "left": null,
            "margin": null,
            "max_height": null,
            "max_width": null,
            "min_height": null,
            "min_width": null,
            "object_fit": null,
            "object_position": null,
            "order": null,
            "overflow": null,
            "overflow_x": null,
            "overflow_y": null,
            "padding": null,
            "right": null,
            "top": null,
            "visibility": null,
            "width": null
          }
        },
        "258df43aca834a9a81dea67c9876ce84": {
          "model_module": "@jupyter-widgets/controls",
          "model_name": "ProgressStyleModel",
          "model_module_version": "1.5.0",
          "state": {
            "_model_module": "@jupyter-widgets/controls",
            "_model_module_version": "1.5.0",
            "_model_name": "ProgressStyleModel",
            "_view_count": null,
            "_view_module": "@jupyter-widgets/base",
            "_view_module_version": "1.2.0",
            "_view_name": "StyleView",
            "bar_color": null,
            "description_width": ""
          }
        },
        "d940e85177254c2eb192c534122615ed": {
          "model_module": "@jupyter-widgets/base",
          "model_name": "LayoutModel",
          "model_module_version": "1.2.0",
          "state": {
            "_model_module": "@jupyter-widgets/base",
            "_model_module_version": "1.2.0",
            "_model_name": "LayoutModel",
            "_view_count": null,
            "_view_module": "@jupyter-widgets/base",
            "_view_module_version": "1.2.0",
            "_view_name": "LayoutView",
            "align_content": null,
            "align_items": null,
            "align_self": null,
            "border": null,
            "bottom": null,
            "display": null,
            "flex": null,
            "flex_flow": null,
            "grid_area": null,
            "grid_auto_columns": null,
            "grid_auto_flow": null,
            "grid_auto_rows": null,
            "grid_column": null,
            "grid_gap": null,
            "grid_row": null,
            "grid_template_areas": null,
            "grid_template_columns": null,
            "grid_template_rows": null,
            "height": null,
            "justify_content": null,
            "justify_items": null,
            "left": null,
            "margin": null,
            "max_height": null,
            "max_width": null,
            "min_height": null,
            "min_width": null,
            "object_fit": null,
            "object_position": null,
            "order": null,
            "overflow": null,
            "overflow_x": null,
            "overflow_y": null,
            "padding": null,
            "right": null,
            "top": null,
            "visibility": null,
            "width": null
          }
        },
        "62668edced6445cfb5c6f48c9f32b237": {
          "model_module": "@jupyter-widgets/controls",
          "model_name": "DescriptionStyleModel",
          "model_module_version": "1.5.0",
          "state": {
            "_model_module": "@jupyter-widgets/controls",
            "_model_module_version": "1.5.0",
            "_model_name": "DescriptionStyleModel",
            "_view_count": null,
            "_view_module": "@jupyter-widgets/base",
            "_view_module_version": "1.2.0",
            "_view_name": "StyleView",
            "description_width": ""
          }
        }
      }
    }
  },
  "nbformat": 4,
  "nbformat_minor": 0
}